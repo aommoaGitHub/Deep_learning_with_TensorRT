{
 "cells": [
  {
   "cell_type": "markdown",
   "metadata": {},
   "source": [
    "# Magma Keras to TensorRT"
   ]
  },
  {
   "cell_type": "markdown",
   "metadata": {},
   "source": [
    "### Importing"
   ]
  },
  {
   "cell_type": "code",
   "execution_count": 1,
   "metadata": {
    "scrolled": true
   },
   "outputs": [
    {
     "name": "stderr",
     "output_type": "stream",
     "text": [
      "Using TensorFlow backend.\n"
     ]
    }
   ],
   "source": [
    "import keras\n",
    "from keras.preprocessing.image import ImageDataGenerator, load_img, img_to_array\n",
    "from keras.callbacks import ModelCheckpoint, TensorBoard\n",
    "from keras.optimizers import Adam\n",
    "from keras.models import Sequential,load_model, Model\n",
    "from keras.layers import Conv2D, MaxPooling2D, Flatten, Dense, Dropout\n",
    "\n",
    "import tensorflow as tf\n",
    "import tensorflow.contrib.tensorrt as trt\n",
    "from tensorflow.python.platform import gfile\n",
    "\n",
    "\n",
    "import time \n",
    "import matplotlib.pyplot as plt\n",
    "%matplotlib inline\n",
    "import numpy as np\n",
    "\n",
    "import os\n",
    "from os.path import isfile, exists, isdir, join\n",
    "\n",
    "import shutil"
   ]
  },
  {
   "cell_type": "markdown",
   "metadata": {},
   "source": [
    "### For Jetson TX2"
   ]
  },
  {
   "cell_type": "code",
   "execution_count": 2,
   "metadata": {
    "scrolled": false
   },
   "outputs": [],
   "source": [
    "from keras import backend as K\n",
    "\n",
    "config = tf.ConfigProto()\n",
    "config.gpu_options.allow_growth = True\n",
    "K.set_session(tf.Session(config=config))\n",
    "\n",
    "tf.keras.backend.set_learning_phase(0)"
   ]
  },
  {
   "cell_type": "code",
   "execution_count": 3,
   "metadata": {},
   "outputs": [],
   "source": [
    "CNN_MODEL = 'MagmaCnnClassifier.hdf5'\n",
    "TARGET_SHAPE = 8\n",
    "DATA_SHAPE = (100,100,3)\n",
    "OPTIMIZER = Adam()\n",
    "BATCH_SIZE = 256\n",
    "EPOCH = 2\n",
    "\n",
    "SAVED_MODEL_DIR = './saved_model/'\n",
    "MODEL_NAME = CNN_MODEL\n",
    "\n",
    "DATA_SHAPE = (100,100,3)\n",
    "TRAIN_DIR = \"./data/train\"\n",
    "TEST_DIR = \"./data/test\"\n",
    "RESULT_PREDICTION_CALLBACK = None"
   ]
  },
  {
   "cell_type": "markdown",
   "metadata": {},
   "source": [
    "# Data preprocessing\n",
    "### create predict_dir by move random pictures from test_dir  \n",
    "#### remove and copy test_dir"
   ]
  },
  {
   "cell_type": "code",
   "execution_count": 4,
   "metadata": {},
   "outputs": [],
   "source": [
    "TEST_COPY_DIR = './data/test_dir'\n",
    "PREDICT_DIR = './data/predict_dir'"
   ]
  },
  {
   "cell_type": "code",
   "execution_count": 6,
   "metadata": {},
   "outputs": [
    {
     "name": "stdout",
     "output_type": "stream",
     "text": [
      "remove if exist test_dir success\n",
      "remove if exist predict_dir success\n",
      "copy test to test_dir success\n"
     ]
    }
   ],
   "source": [
    "# delete folder if exist\n",
    "if exists(TEST_COPY_DIR) and isdir(TEST_COPY_DIR):\n",
    "    shutil.rmtree(TEST_COPY_DIR)\n",
    "print('remove if exist test_dir success')\n",
    "\n",
    "if exists(PREDICT_DIR) and isdir(PREDICT_DIR):\n",
    "    shutil.rmtree(PREDICT_DIR)\n",
    "print('remove if exist predict_dir success')\n",
    "\n",
    "#copy test as test_dir, there are result as list of copy files\n",
    "# from distutils.dir_util import copy_tree\n",
    "# copy_tree('./data/test','./data/test_dir')\n",
    "from subprocess import call\n",
    "call(['cp','-a', TEST_DIR, TEST_COPY_DIR])\n",
    "print('copy test to test_dir success')"
   ]
  },
  {
   "cell_type": "markdown",
   "metadata": {},
   "source": [
    "#### create predict_dir and random moving images"
   ]
  },
  {
   "cell_type": "code",
   "execution_count": 5,
   "metadata": {},
   "outputs": [],
   "source": [
    "#random select images\n",
    "CATEGORIES = ['0','1','2','3','4','5','6','7']\n",
    "IMAGES_PER_FOLDER = 1"
   ]
  },
  {
   "cell_type": "code",
   "execution_count": 10,
   "metadata": {
    "scrolled": true
   },
   "outputs": [
    {
     "name": "stdout",
     "output_type": "stream",
     "text": [
      "copy - category: 0 ['1202.png']\n",
      "copy - category: 1 ['5573.png']\n",
      "copy - category: 2 ['3077.png']\n",
      "copy - category: 3 ['8448.png']\n",
      "copy - category: 4 ['8580.png']\n",
      "copy - category: 5 ['1786.png']\n",
      "copy - category: 6 ['767.png']\n",
      "copy - category: 7 ['157.png']\n"
     ]
    }
   ],
   "source": [
    "import random\n",
    "for category in CATEGORIES:\n",
    "    \n",
    "    path_ct = join(TEST_COPY_DIR,category)\n",
    "    path_pd = join(PREDICT_DIR, category)\n",
    "    \n",
    "    if not exists(path_pd):\n",
    "        os.makedirs(path_pd)\n",
    "    \n",
    "    image_list = os.listdir(path_ct)\n",
    "    random.shuffle(image_list)\n",
    "    \n",
    "    for img in image_list[:IMAGES_PER_FOLDER]:\n",
    "        path_src = join(path_ct,img)\n",
    "        path_des = join(path_pd,img)\n",
    "        shutil.move(path_src, path_des)\n",
    "    \n",
    "    print('copy - category:',category, image_list[:IMAGES_PER_FOLDER])\n",
    "    \n",
    "    "
   ]
  },
  {
   "cell_type": "markdown",
   "metadata": {},
   "source": [
    "# WorkFlow"
   ]
  },
  {
   "cell_type": "markdown",
   "metadata": {},
   "source": [
    "### Keras to TensorRT\n",
    "![alt text](pictures/Keras_to_TensorRT.png)"
   ]
  },
  {
   "cell_type": "markdown",
   "metadata": {},
   "source": [
    "## d) Inference using TensorRT model"
   ]
  },
  {
   "cell_type": "markdown",
   "metadata": {},
   "source": [
    "#### d.1) Function to read \".pb\" model (TensorRT model is stored in \".pb\")"
   ]
  },
  {
   "cell_type": "code",
   "execution_count": 6,
   "metadata": {},
   "outputs": [],
   "source": [
    "# (can be used to read frozen model or TensorRT model)\n",
    "def read_pb_graph(model):\n",
    "    with gfile.FastGFile(model,'rb') as f:\n",
    "        graph_def = tf.GraphDef()\n",
    "        graph_def.ParseFromString(f.read())\n",
    "    return graph_def"
   ]
  },
  {
   "cell_type": "markdown",
   "metadata": {},
   "source": [
    "#### prepare data for prediction"
   ]
  },
  {
   "cell_type": "code",
   "execution_count": 7,
   "metadata": {},
   "outputs": [
    {
     "name": "stdout",
     "output_type": "stream",
     "text": [
      "[['./data/predict_dir/0/1202.png', 0, '1202.png'], ['./data/predict_dir/1/5573.png', 1, '5573.png'], ['./data/predict_dir/2/3077.png', 2, '3077.png'], ['./data/predict_dir/3/8448.png', 3, '8448.png'], ['./data/predict_dir/4/8580.png', 4, '8580.png'], ['./data/predict_dir/5/1786.png', 5, '1786.png'], ['./data/predict_dir/6/767.png', 6, '767.png'], ['./data/predict_dir/7/157.png', 7, '157.png']]\n",
      "./data/predict_dir/0/1202.png\n"
     ]
    }
   ],
   "source": [
    "images = []\n",
    "for category in CATEGORIES:\n",
    "    path_pd = join(PREDICT_DIR, category)\n",
    "    class_num = CATEGORIES.index(category)\n",
    "    image_list = os.listdir(path_pd)\n",
    "    \n",
    "    for img in image_list:\n",
    "        images.append([join(path_pd,img),class_num,img])\n",
    "\n",
    "print(images)\n",
    "print(images[0][0])\n"
   ]
  },
  {
   "cell_type": "code",
   "execution_count": 8,
   "metadata": {},
   "outputs": [
    {
     "name": "stdout",
     "output_type": "stream",
     "text": [
      "(2, 100, 100, 3)\n"
     ]
    }
   ],
   "source": [
    "input_img = []\n",
    "\n",
    "x = 2\n",
    "\n",
    "for i in range(x):\n",
    "    \n",
    "    img = load_img(path=images[i][0], color_mode='rgb', target_size=DATA_SHAPE)\n",
    "    img2predict = img.copy()\n",
    "    img2predict = img_to_array(img2predict)\n",
    "    img2predict /= 255\n",
    "    input_img.append(img2predict)\n",
    "#     break # <<-- use only 1 image\n",
    "    \n",
    "input_img = np.array(input_img)\n",
    "print(input_img.shape)"
   ]
  },
  {
   "cell_type": "markdown",
   "metadata": {},
   "source": [
    "#### d.2) Perform inference using TensorRT model"
   ]
  },
  {
   "cell_type": "code",
   "execution_count": 9,
   "metadata": {},
   "outputs": [
    {
     "name": "stdout",
     "output_type": "stream",
     "text": [
      "read TensorRT model\n",
      "obtain the corresponding input-output tensor\n",
      "in this case, it demonstrates to perform inference for 50 times\n",
      "before Sess run\n",
      "after Sess run\n",
      "needed time in inference-0:  0.016066551208496094\n",
      "needed time in inference-1:  0.019194602966308594\n",
      "needed time in inference-2:  0.01940608024597168\n",
      "needed time in inference-3:  0.02031731605529785\n",
      "needed time in inference-4:  0.02158331871032715\n",
      "needed time in inference-5:  0.0221560001373291\n",
      "needed time in inference-6:  0.020982980728149414\n",
      "needed time in inference-7:  0.02182769775390625\n",
      "needed time in inference-8:  0.022562742233276367\n",
      "needed time in inference-9:  0.0247042179107666\n",
      "needed time in inference-10:  0.019618749618530273\n",
      "needed time in inference-11:  0.017512083053588867\n",
      "needed time in inference-12:  0.023143529891967773\n",
      "needed time in inference-13:  0.030434370040893555\n",
      "needed time in inference-14:  0.028888940811157227\n",
      "needed time in inference-15:  0.01202082633972168\n",
      "needed time in inference-16:  0.006947040557861328\n",
      "needed time in inference-17:  0.0068476200103759766\n",
      "needed time in inference-18:  0.006392717361450195\n",
      "needed time in inference-19:  0.006951808929443359\n",
      "needed time in inference-20:  0.006239891052246094\n",
      "needed time in inference-21:  0.006711721420288086\n",
      "needed time in inference-22:  0.006464958190917969\n",
      "needed time in inference-23:  0.008532047271728516\n",
      "needed time in inference-24:  0.018717527389526367\n",
      "needed time in inference-25:  0.008131265640258789\n",
      "needed time in inference-26:  0.008464574813842773\n",
      "needed time in inference-27:  0.007649421691894531\n",
      "needed time in inference-28:  0.013596296310424805\n",
      "needed time in inference-29:  0.010221481323242188\n",
      "needed time in inference-30:  0.009858131408691406\n",
      "needed time in inference-31:  0.009580850601196289\n",
      "needed time in inference-32:  0.008951425552368164\n",
      "needed time in inference-33:  0.010558843612670898\n",
      "needed time in inference-34:  0.015603065490722656\n",
      "needed time in inference-35:  0.011379003524780273\n",
      "needed time in inference-36:  0.011776924133300781\n",
      "needed time in inference-37:  0.011505126953125\n",
      "needed time in inference-38:  0.010789871215820312\n",
      "needed time in inference-39:  0.011018991470336914\n",
      "needed time in inference-40:  0.01166534423828125\n",
      "needed time in inference-41:  0.012955665588378906\n",
      "needed time in inference-42:  0.016938209533691406\n",
      "needed time in inference-43:  0.01822185516357422\n",
      "needed time in inference-44:  0.016216278076171875\n",
      "needed time in inference-45:  0.026732206344604492\n",
      "needed time in inference-46:  0.02533555030822754\n",
      "needed time in inference-47:  0.03229999542236328\n",
      "needed time in inference-48:  0.009341001510620117\n",
      "needed time in inference-49:  0.007241010665893555\n",
      "average inference time:  0.015005154609680176\n"
     ]
    }
   ],
   "source": [
    "# variable\n",
    "# print(tr_filename)\n",
    "# TENSORRT_MODEL_PATH = './saved_model/'+tr_filename\n",
    "\n",
    "TENSORRT_MODEL_PATH = './saved_model/TensorRT_Magma_model_01-07-2019_16-54-31.pb'\n",
    "\n",
    "# INPUT_TENSOR = INPUTS + ':0'\n",
    "# OUTPUT_TENSOR = OUTPUTS + ':0'\n",
    "\n",
    "graph = tf.Graph()\n",
    "with graph.as_default():\n",
    "    with tf.Session(config=tf.ConfigProto(gpu_options=tf.GPUOptions(per_process_gpu_memory_fraction=0.50))) as sess:\n",
    "        # read TensorRT model\n",
    "        print('read TensorRT model')\n",
    "        trt_graph = read_pb_graph(TENSORRT_MODEL_PATH)\n",
    "\n",
    "        # obtain the corresponding input-output tensor\n",
    "        print('obtain the corresponding input-output tensor')\n",
    "        tf.import_graph_def(trt_graph, name='')\n",
    "        tensor_input = sess.graph.get_tensor_by_name('input_tensor_input:0')\n",
    "        tensor_output = sess.graph.get_tensor_by_name('output_tensor/Softmax:0')\n",
    "        \n",
    "        # write to tensorboard (check tensorboard for each op names)\n",
    "        writer = tf.summary.FileWriter(SAVED_MODEL_DIR+'forzen_log/')\n",
    "        writer.add_graph(sess.graph)\n",
    "        writer.flush()\n",
    "        writer.close()\n",
    "\n",
    "        # in this case, it demonstrates to perform inference for 50 times\n",
    "        print('in this case, it demonstrates to perform inference for 50 times')\n",
    "        total_time = 0; n_time_inference = 50\n",
    "        print('before Sess run')\n",
    "        out_pred = sess.run(tensor_output, feed_dict={tensor_input: input_img}) # <--------- boom here\n",
    "        print('after Sess run')\n",
    "        for i in range(n_time_inference):\n",
    "            t1 = time.time()\n",
    "            out_pred = sess.run( tensor_output, feed_dict={tensor_input: input_img})\n",
    "            t2 = time.time()\n",
    "            delta_time = t2 - t1\n",
    "            total_time += delta_time\n",
    "            print(\"needed time in inference-\" + str(i) + \": \", delta_time)\n",
    "        avg_time_tensorRT = total_time / n_time_inference\n",
    "        print(\"average inference time: \", avg_time_tensorRT)"
   ]
  },
  {
   "cell_type": "markdown",
   "metadata": {},
   "source": [
    "#### d.3) Perform inference using the original tensorflow model"
   ]
  },
  {
   "cell_type": "code",
   "execution_count": 32,
   "metadata": {},
   "outputs": [
    {
     "name": "stdout",
     "output_type": "stream",
     "text": [
      "\n",
      "===== ouptut operation names =====\n",
      "\n",
      "needed time in inference-0:  0.010280132293701172\n",
      "needed time in inference-1:  0.007669687271118164\n",
      "needed time in inference-2:  0.007061481475830078\n",
      "needed time in inference-3:  0.0070569515228271484\n",
      "needed time in inference-4:  0.008172273635864258\n",
      "needed time in inference-5:  0.00923919677734375\n",
      "needed time in inference-6:  0.010852575302124023\n",
      "needed time in inference-7:  0.009143829345703125\n",
      "needed time in inference-8:  0.010569334030151367\n",
      "needed time in inference-9:  0.01271820068359375\n",
      "needed time in inference-10:  0.01394510269165039\n",
      "needed time in inference-11:  0.013981342315673828\n",
      "needed time in inference-12:  0.014429092407226562\n",
      "needed time in inference-13:  0.017218589782714844\n",
      "needed time in inference-14:  0.018733978271484375\n",
      "needed time in inference-15:  0.019956350326538086\n",
      "needed time in inference-16:  0.017821311950683594\n",
      "needed time in inference-17:  0.020099639892578125\n",
      "needed time in inference-18:  0.03317523002624512\n",
      "needed time in inference-19:  0.010460376739501953\n",
      "needed time in inference-20:  0.011678457260131836\n",
      "needed time in inference-21:  0.008526086807250977\n",
      "needed time in inference-22:  0.008745431900024414\n",
      "needed time in inference-23:  0.009294509887695312\n",
      "needed time in inference-24:  0.009071111679077148\n",
      "needed time in inference-25:  0.010717153549194336\n",
      "needed time in inference-26:  0.009981393814086914\n",
      "needed time in inference-27:  0.010223388671875\n",
      "needed time in inference-28:  0.010755777359008789\n",
      "needed time in inference-29:  0.012680768966674805\n",
      "needed time in inference-30:  0.012177467346191406\n",
      "needed time in inference-31:  0.014082193374633789\n",
      "needed time in inference-32:  0.013183116912841797\n",
      "needed time in inference-33:  0.010696649551391602\n",
      "needed time in inference-34:  0.015021800994873047\n",
      "needed time in inference-35:  0.013682365417480469\n",
      "needed time in inference-36:  0.02021503448486328\n",
      "needed time in inference-37:  0.016660213470458984\n",
      "needed time in inference-38:  0.01962137222290039\n",
      "needed time in inference-39:  0.013503313064575195\n",
      "needed time in inference-40:  0.012695789337158203\n",
      "needed time in inference-41:  0.012738943099975586\n",
      "needed time in inference-42:  0.012392282485961914\n",
      "needed time in inference-43:  0.012279987335205078\n",
      "needed time in inference-44:  0.01159048080444336\n",
      "needed time in inference-45:  0.011586189270019531\n",
      "needed time in inference-46:  0.013405323028564453\n",
      "needed time in inference-47:  0.014049768447875977\n",
      "needed time in inference-48:  0.012389183044433594\n",
      "needed time in inference-49:  0.013165950775146484\n",
      "average inference time:  0.012987923622131348\n",
      "TensorRT improvement compared to the original model: 0.9298823890889849\n"
     ]
    }
   ],
   "source": [
    "# variable\n",
    "FROZEN_MODEL_PATH = './saved_model/Magma_frozen_model_01-07-2019_16-53-56.pb'\n",
    "\n",
    "graph = tf.Graph()\n",
    "with graph.as_default():\n",
    "    with tf.Session() as sess:\n",
    "        # read TensorRT model\n",
    "        frozen_graph = read_pb_graph(FROZEN_MODEL_PATH)\n",
    "        \n",
    "           # print all operation names \n",
    "        print('\\n===== ouptut operation names =====\\n')\n",
    "        for op in sess.graph.get_operations():\n",
    "            print(op.name)\n",
    "\n",
    "        # obtain the corresponding input-output tensor\n",
    "        tf.import_graph_def(frozen_graph, name='')\n",
    "        input = sess.graph.get_tensor_by_name('input_tensor_input:0')\n",
    "        output = sess.graph.get_tensor_by_name('output_tensor/Softmax:0')\n",
    "\n",
    "        # in this case, it demonstrates to perform inference for 50 times\n",
    "        total_time = 0; n_time_inference = 50\n",
    "        out_pred = sess.run(output, feed_dict={input: input_img})\n",
    "        for i in range(n_time_inference):\n",
    "            t1 = time.time()\n",
    "            out_pred = sess.run(output, feed_dict={input: input_img})\n",
    "            t2 = time.time()\n",
    "            delta_time = t2 - t1\n",
    "            total_time += delta_time\n",
    "            print(\"needed time in inference-\" + str(i) + \": \", delta_time)\n",
    "        avg_time_original_model = total_time / n_time_inference\n",
    "        print(\"average inference time: \", avg_time_original_model)\n",
    "        print(\"TensorRT improvement compared to the original model:\", avg_time_original_model/avg_time_tensorRT)"
   ]
  },
  {
   "cell_type": "markdown",
   "metadata": {},
   "source": [
    "#### d.4) Plot the prediction result"
   ]
  },
  {
   "cell_type": "code",
   "execution_count": 40,
   "metadata": {},
   "outputs": [
    {
     "data": {
      "image/png": "[encoded data removed]",
      "text/plain": [
       "<Figure size 432x288 with 1 Axes>"
      ]
     },
     "metadata": {
      "needs_background": "light"
     },
     "output_type": "display_data"
    },
    {
     "data": {
      "image/png": "[encoded data removed]",
      "text/plain": [
       "<Figure size 432x288 with 1 Axes>"
      ]
     },
     "metadata": {
      "needs_background": "light"
     },
     "output_type": "display_data"
    }
   ],
   "source": [
    "for i in range(len(out_pred)):\n",
    "    plt.figure('img{}'.format(i))\n",
    "    img = load_img(path=images[i][0], color_mode='rgb', target_size=DATA_SHAPE)\n",
    "    plt.imshow(img, cmap=None)\n",
    "    plt.title('pred:' + str(np.argmax(out_pred[i])), fontsize=22)"
   ]
  },
  {
   "cell_type": "markdown",
   "metadata": {},
   "source": [
    "# Visualize the original and optimized graphs\n",
    "Using [netron](https://lutzroeder.github.io/netron/), the web application for vitsulaize model graph by upload .pb file."
   ]
  },
  {
   "cell_type": "code",
   "execution_count": null,
   "metadata": {},
   "outputs": [],
   "source": []
  },
  {
   "cell_type": "markdown",
   "metadata": {},
   "source": [
    "## 2. Calulate Time, mAP, ACC of Keras model"
   ]
  },
  {
   "cell_type": "code",
   "execution_count": null,
   "metadata": {
    "scrolled": false
   },
   "outputs": [],
   "source": []
  },
  {
   "cell_type": "code",
   "execution_count": null,
   "metadata": {
    "scrolled": false
   },
   "outputs": [],
   "source": []
  },
  {
   "cell_type": "markdown",
   "metadata": {},
   "source": [
    "## 3. Process in TensorRT"
   ]
  },
  {
   "cell_type": "code",
   "execution_count": null,
   "metadata": {
    "scrolled": false
   },
   "outputs": [],
   "source": []
  },
  {
   "cell_type": "code",
   "execution_count": null,
   "metadata": {
    "scrolled": false
   },
   "outputs": [],
   "source": []
  },
  {
   "cell_type": "markdown",
   "metadata": {},
   "source": [
    "## 4. Calculate Time, mAP, ACC of converted model"
   ]
  },
  {
   "cell_type": "code",
   "execution_count": null,
   "metadata": {
    "scrolled": false
   },
   "outputs": [],
   "source": []
  }
 ],
 "metadata": {
  "kernelspec": {
   "display_name": "Python 3",
   "language": "python",
   "name": "python3"
  },
  "language_info": {
   "codemirror_mode": {
    "name": "ipython",
    "version": 3
   },
   "file_extension": ".py",
   "mimetype": "text/x-python",
   "name": "python",
   "nbconvert_exporter": "python",
   "pygments_lexer": "ipython3",
   "version": "3.5.2"
  }
 },
 "nbformat": 4,
 "nbformat_minor": 2
}
